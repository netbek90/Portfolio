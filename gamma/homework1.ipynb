{
 "cells": [
  {
   "cell_type": "markdown",
   "id": "f72a4aeb-2823-4d3a-892a-04e8d83318e0",
   "metadata": {},
   "source": [
    "Написать программу которая: \n",
    "1. Высчитывает возраст из заданых данных (current_year - нынешний год, year_of_birth - год рождения)\n",
    "2. Найти недостающую часть кода (code_2)\n",
    "    + найдите остаток от x деленого на y\n",
    "    + полученый результ умножьте на 13\n",
    "    + извлеките квадратный корень из полученного результата (аналогично возведению в степень 0.5)\n",
    "    + возьмите целую часть от результата\n",
    "3. Соединить код в отдельную переменную\\\n",
    "    пример:\\\n",
    "    475-12-967\n",
    "4. Вывести строку используя доступные переменные:\\\n",
    "    пример:\\\n",
    "    Hello Mary Gold. You are 26 years old. Your secret code is 475-12-967."
   ]
  },
  {
   "cell_type": "code",
   "execution_count": 6,
   "id": "c82683eb-c4a8-46c6-a3f9-ea572a14f00b",
   "metadata": {},
   "outputs": [
    {
     "name": "stdout",
     "output_type": "stream",
     "text": [
      "Please reconsider birth year\n"
     ]
    }
   ],
   "source": [
    "# years\n",
    "#import datetime\n",
    "#current_year = datetime.date.today().year\n",
    "current_year = 2022\n",
    "year_of_birth = 1988\n",
    "def count_age(current_year:int, year_of_birth:int)-> int:\n",
    "    if current_year>year_of_birth:\n",
    "    \treturn current_year-year_of_birth\n",
    "    else:\n",
    "        print('Please reconsider birth year')\n",
    "        \n",
    "count_age(current_year,year_of_birth)"
   ]
  },
  {
   "cell_type": "code",
   "execution_count": 7,
   "id": "9e40832d-6319-4dfe-aaf6-0d8e7b733269",
   "metadata": {},
   "outputs": [
    {
     "data": {
      "text/plain": [
       "<function __main__.<lambda>(code_1, code_3)>"
      ]
     },
     "execution_count": 22,
     "metadata": {},
     "output_type": "execute_result"
    }
   ],
   "source": [
    "# code parts\n",
    "code_1 = '354'\n",
    "code_3 = 132\n",
    "#code_2 = lambda code_1, code_3: int((int(code_1)%code_3*13)**(1/2))\n",
    "def find_parts(code_1:str, code_3:int)-> int:\n",
    "    return int((int(code_1)%code_3*13)**(1/2))\n",
    "\n",
    "code_2 = find_parts(code_1, code_3)\n",
    "code_2"
   ]
  },
  {
   "cell_type": "code",
   "execution_count": 28,
   "id": "e02c0f26-29be-4af8-b499-90717f67cdb0",
   "metadata": {},
   "outputs": [
    {
     "data": {
      "text/plain": [
       "'JohnSmith'"
      ]
     },
     "execution_count": 28,
     "metadata": {},
     "output_type": "execute_result"
    }
   ],
   "source": [
    "# name\n",
    "user_name = 'John'\n",
    "user_surname = 'Smith'\n",
    "\n",
    "def contam(*args:str,res=\"\")->str:\n",
    "    for i in args:\n",
    "        res+=i\n",
    "    return res\n",
    "\n",
    "contam(user_name,user_surname)"
   ]
  },
  {
   "cell_type": "code",
   "execution_count": 35,
   "id": "3503daad-5422-4e8d-93f4-284326d34354",
   "metadata": {},
   "outputs": [
    {
     "name": "stdout",
     "output_type": "stream",
     "text": [
      "152-132\n"
     ]
    }
   ],
   "source": [
    "# code 2 data\n",
    "x = 152\n",
    "y = 132\n",
    "\n",
    "def make_str(*args)->str:\n",
    "    return print(*args, sep='-')\n",
    "\n",
    "make_str(x,y)\n",
    "        "
   ]
  },
  {
   "cell_type": "code",
   "execution_count": null,
   "id": "bc4aed72-738a-4218-86a9-a912c56d8163",
   "metadata": {},
   "outputs": [],
   "source": []
  }
 ],
 "metadata": {
  "kernelspec": {
   "display_name": "Python 3 (ipykernel)",
   "language": "python",
   "name": "python3"
  },
  "language_info": {
   "codemirror_mode": {
    "name": "ipython",
    "version": 3
   },
   "file_extension": ".py",
   "mimetype": "text/x-python",
   "name": "python",
   "nbconvert_exporter": "python",
   "pygments_lexer": "ipython3",
   "version": "3.9.7"
  }
 },
 "nbformat": 4,
 "nbformat_minor": 5
}
